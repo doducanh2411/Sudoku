{
 "cells": [
  {
   "cell_type": "code",
   "execution_count": 1,
   "id": "e4f2dcf6-6e0e-4707-b787-b2a767184969",
   "metadata": {},
   "outputs": [
    {
     "name": "stdout",
     "output_type": "stream",
     "text": [
      "pygame 2.3.0 (SDL 2.24.2, Python 3.10.9)\n",
      "Hello from the pygame community. https://www.pygame.org/contribute.html\n"
     ]
    }
   ],
   "source": [
    "import pygame as pg \n",
    "import random \n",
    "import sys"
   ]
  },
  {
   "cell_type": "code",
   "execution_count": 2,
   "id": "b89ac035-79b5-4521-9e97-cbbb2ed180d4",
   "metadata": {},
   "outputs": [],
   "source": [
    "WINDOW_WIDTH = 550\n",
    "WINDOW_HEIGHT = 550\n",
    "WHITE = (255,255,255)  \n",
    "BLACK = (0,0,0)\n",
    "BLUE = (173,216,230)\n",
    "YELLOW = (255,255,0)\n",
    "RED = (255,0,0)\n",
    "offset = 65\n",
    "cell_size = 50"
   ]
  },
  {
   "cell_type": "code",
   "execution_count": 3,
   "id": "f0a215f8-58d1-4f22-b761-367f4f3b17f7",
   "metadata": {},
   "outputs": [],
   "source": [
    "pg.init()\n",
    "font = pg.font.SysFont(None, 50)\n",
    "SCREEN = pg.display.set_mode((WINDOW_WIDTH, WINDOW_HEIGHT))\n",
    "SCREEN.fill(WHITE)\n",
    "pg.display.set_caption(\"Sudoku\")"
   ]
  },
  {
   "cell_type": "code",
   "execution_count": 4,
   "id": "d08ea786-6f53-4beb-bb6d-3f7ea85572ab",
   "metadata": {},
   "outputs": [],
   "source": [
    "number_grid = [\n",
    "    [4,2,0,9,0,3,0,7,8],\n",
    "    [0,7,0,6,0,0,0,0,9],\n",
    "    [5,9,0,7,4,0,3,1,2],\n",
    "    [2,0,0,4,0,7,0,0,3],\n",
    "    [7,0,0,1,0,0,2,6,4],\n",
    "    [1,0,0,0,2,0,0,0,0],\n",
    "    [0,5,0,0,0,0,7,0,0],\n",
    "    [0,0,3,2,7,6,4,9,5],\n",
    "    [9,4,0,5,0,1,8,2,6],\n",
    "]"
   ]
  },
  {
   "cell_type": "code",
   "execution_count": 5,
   "id": "803a0603-70f7-4556-a7ed-a7becf547d70",
   "metadata": {},
   "outputs": [],
   "source": [
    "def draw_grid():\n",
    "    for i in range(0,10):\n",
    "        if(i % 3 == 0):\n",
    "            pg.draw.line(SCREEN, BLACK, (cell_size + cell_size * i, cell_size), (cell_size + cell_size * i ,500), 4)\n",
    "            pg.draw.line(SCREEN, BLACK, (cell_size, cell_size + cell_size * i), (500, cell_size + cell_size * i), 4)\n",
    "\n",
    "        pg.draw.line(SCREEN, BLACK, (cell_size + cell_size * i, cell_size), (cell_size + cell_size * i ,500), 2)\n",
    "        pg.draw.line(SCREEN,BLACK, (cell_size, cell_size + cell_size*i), (500, cell_size + cell_size * i), 2)\n",
    "    pg.display.update()"
   ]
  },
  {
   "cell_type": "code",
   "execution_count": 6,
   "id": "fd11cc66-ec40-43e2-9b55-5e2fa2c9fef6",
   "metadata": {},
   "outputs": [],
   "source": [
    "def draw_number():\n",
    "    row = 0\n",
    "    while row < 9:\n",
    "        col = 0\n",
    "        while col < 9:\n",
    "            output = number_grid[row][col]\n",
    "            if output > 0:\n",
    "                rect = pg.Rect((col * cell_size) + offset - 12 , (row * cell_size) + offset - 12, 47, 47)\n",
    "                pg.draw.rect(SCREEN, BLUE, rect)\n",
    "                ntext = font.render(str(output), True, pg.Color('black'))\n",
    "                SCREEN.blit(ntext, pg.Vector2((col * cell_size) + offset , (row * cell_size) + offset))\n",
    "            col += 1\n",
    "        row += 1"
   ]
  },
  {
   "cell_type": "code",
   "execution_count": 7,
   "id": "9fb402a3-36c5-4e21-b584-909c8cdeaaad",
   "metadata": {},
   "outputs": [],
   "source": [
    "def check_input(grid, row, col, num):\n",
    "    # Check if the same number exists in the same row or column\n",
    "    for i in range(9):\n",
    "        if grid[row][i] == num or grid[i][col] == num:\n",
    "            return False\n",
    "\n",
    "    # Check if the same number exists in the same 3x3 box\n",
    "    box_row = (row // 3) * 3\n",
    "    box_col = (col // 3) * 3\n",
    "    for i in range(box_row, box_row + 3):\n",
    "        for j in range(box_col, box_col + 3):\n",
    "            if grid[i][j] == num:\n",
    "                return False\n",
    "\n",
    "    return True"
   ]
  },
  {
   "cell_type": "code",
   "execution_count": 8,
   "id": "8b2cb5ea-c73d-4e64-a653-b8011508c6a5",
   "metadata": {},
   "outputs": [],
   "source": [
    "def error_box(x, y):\n",
    "    for i in range(2):\n",
    "        pg.draw.line(SCREEN, RED, (x * cell_size - 3, (y + i) * cell_size), ((x + 1) * cell_size + 3, (y + i) * cell_size), 2)\n",
    "        pg.draw.line(SCREEN, RED, ((x + i) * cell_size, y * cell_size), ((x + i) * cell_size, (y + 1) * cell_size), 2)\n",
    "\n",
    "def correct_box(x, y):\n",
    "    for i in range(2):\n",
    "        pg.draw.line(SCREEN, YELLOW, (x * cell_size - 3, (y + i) * cell_size), ((x + 1) * cell_size + 3, (y + i) * cell_size), 2)\n",
    "        pg.draw.line(SCREEN, YELLOW, ((x + i) * cell_size, y * cell_size), ((x + i) * cell_size, (y + 1) * cell_size), 2)\n",
    "\n",
    "def default_box(x,y):\n",
    "    for i in range(2):\n",
    "        pg.draw.line(SCREEN, BLACK, (x * cell_size - 3, (y + i) * cell_size), ((x + 1) * cell_size + 3, (y + i) * cell_size), 2)\n",
    "        pg.draw.line(SCREEN, BLACK, ((x + i) * cell_size, y * cell_size), ((x + i) * cell_size, (y + 1) * cell_size), 2)"
   ]
  },
  {
   "cell_type": "code",
   "execution_count": 9,
   "id": "c089a7aa-e4ad-46bb-bc7a-e7721544ae08",
   "metadata": {},
   "outputs": [],
   "source": [
    "def insert_number(pos):\n",
    "    # get the row and column of the clicked cell\n",
    "    col = (pos[0] - 50) // 50\n",
    "    row = (pos[1] - 50) // 50\n",
    "    \n",
    "    # create a text input box\n",
    "    input_box = pg.Rect((col * 50) + offset - 12 , (row * 50) + offset - 12, 40, 40)\n",
    "    pg.draw.rect(SCREEN, pg.Color('white'), input_box)\n",
    "    pg.display.update()\n",
    "    \n",
    "    # loop until user inputs a valid number or cancels\n",
    "    while True:\n",
    "        for event in pg.event.get():\n",
    "            if event.type == pg.QUIT:\n",
    "                pg.quit()\n",
    "                sys.exit()\n",
    "            if event.type == pg.KEYDOWN:\n",
    "                if event.key == pg.K_ESCAPE:\n",
    "                    default_box(pos[0] // 50, pos[1] // 50)\n",
    "                    return  # user cancelled input\n",
    "                if event.unicode.isnumeric():\n",
    "                    num = int(event.unicode)\n",
    "                    if check_input(number_grid, row, col, num):\n",
    "                        # input is valid, add it to the grid and update the display\n",
    "                        number_grid[row][col] = num\n",
    "                        rect = pg.Rect((col * 50) + offset - 12 , (row * 50) + offset - 12, 47, 47)\n",
    "                        pg.draw.rect(SCREEN, (173, 216, 230), rect)\n",
    "                        pg.display.update(rect)\n",
    "                        ntext = font.render(str(num), True, pg.Color('black'))\n",
    "                        SCREEN.blit(ntext, pg.Vector2(col * 50 + offset, row * 50 + offset))\n",
    "                        correct_box(pos[0] // 50, pos[1] // 50)\n",
    "                        pg.display.update()\n",
    "                        return\n",
    "                    else:\n",
    "                        error_box(pos[0] // 50, pos[1] // 50)\n",
    "                        pg.display.update()"
   ]
  },
  {
   "cell_type": "code",
   "execution_count": 10,
   "id": "23e7bf80-de46-46ff-a698-0c57e912b1d7",
   "metadata": {},
   "outputs": [
    {
     "ename": "SystemExit",
     "evalue": "",
     "output_type": "error",
     "traceback": [
      "An exception has occurred, use %tb to see the full traceback.\n",
      "\u001b[1;31mSystemExit\u001b[0m\n"
     ]
    },
    {
     "name": "stderr",
     "output_type": "stream",
     "text": [
      "D:\\Anaconda\\envs\\myenv\\lib\\site-packages\\IPython\\core\\interactiveshell.py:3468: UserWarning: To exit: use 'exit', 'quit', or Ctrl-D.\n",
      "  warn(\"To exit: use 'exit', 'quit', or Ctrl-D.\", stacklevel=1)\n"
     ]
    }
   ],
   "source": [
    "def main():\n",
    "    draw_grid()\n",
    "    draw_number()\n",
    "    while True:\n",
    "        for event in pg.event.get():\n",
    "            if event.type == pg.QUIT:\n",
    "                pg.quit()\n",
    "                sys.exit()\n",
    "            if event.type == pg.MOUSEBUTTONUP and event.button == 1:\n",
    "                pos = pg.mouse.get_pos()\n",
    "                insert_number(pos)\n",
    "        pg.display.update()\n",
    "\n",
    "if __name__ == \"__main__\":      \n",
    "    main()"
   ]
  },
  {
   "cell_type": "code",
   "execution_count": null,
   "id": "1fe0d871-5d17-47fd-99da-55b8cd756904",
   "metadata": {},
   "outputs": [],
   "source": []
  },
  {
   "cell_type": "code",
   "execution_count": null,
   "id": "abe177a9-99e6-4c6b-8127-4346bae414f2",
   "metadata": {},
   "outputs": [],
   "source": []
  }
 ],
 "metadata": {
  "kernelspec": {
   "display_name": "Python 3 (ipykernel)",
   "language": "python",
   "name": "python3"
  },
  "language_info": {
   "codemirror_mode": {
    "name": "ipython",
    "version": 3
   },
   "file_extension": ".py",
   "mimetype": "text/x-python",
   "name": "python",
   "nbconvert_exporter": "python",
   "pygments_lexer": "ipython3",
   "version": "3.10.9"
  }
 },
 "nbformat": 4,
 "nbformat_minor": 5
}
